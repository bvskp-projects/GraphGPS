{
 "cells": [
  {
   "cell_type": "code",
   "execution_count": 11,
   "id": "c8f3b368-b56f-4e15-a5a8-5bb42fcfa283",
   "metadata": {},
   "outputs": [],
   "source": [
    "import torch\n",
    "from torch_geometric.data import Data\n",
    "import networkx as nx"
   ]
  },
  {
   "cell_type": "code",
   "execution_count": 12,
   "id": "1e98b589-ca11-493c-84bb-a09e7764a393",
   "metadata": {},
   "outputs": [],
   "source": [
    "graphs = []\n",
    "\n",
    "ngraphs = 100\n",
    "for idx in range(ngraphs):\n",
    "    n = 10 # Graph size\n",
    "    g = nx.path_graph(n) # Path graph\n",
    "    edge_index = torch.tensor(list(g.edges())).t().contiguous()\n",
    "\n",
    "    # Data and labels are mirrors\n",
    "    x = torch.randperm(n)\n",
    "    y = torch.flip(x, [0])\n",
    "    x = x.to(dtype=torch.float32).unsqueeze(dim=1)\n",
    "\n",
    "    # Mask\n",
    "    k = n//10\n",
    "    mask = torch.cat((torch.ones(k), -torch.ones(k), torch.zeros(n - 2 * k)))\n",
    "    mask = mask[torch.randperm(n)]\n",
    "    train_mask = mask == 0\n",
    "    val_mask = mask == 1\n",
    "    test_mask = mask == -1\n",
    "\n",
    "    val_mask[(idx+1)%3] = 1\n",
    "    test_mask[(idx+2)%3] = 1\n",
    "    train_mask[val_mask | test_mask] = 0\n",
    "\n",
    "    # Create the graph\n",
    "    data = Data(edge_index=edge_index, x=x, y=y, train_mask=train_mask, val_mask=val_mask, test_mask=test_mask)\n",
    "    graphs.append(data)"
   ]
  },
  {
   "cell_type": "code",
   "execution_count": 13,
   "id": "49bc2f6f-6ee0-4f89-9215-93d0fb4a615c",
   "metadata": {},
   "outputs": [],
   "source": [
    "import pickle\n",
    "\n",
    "fname = \"mirror.pkl\"\n",
    "\n",
    "with open(fname, \"wb\") as f:\n",
    "    pickle.dump(graphs, f)"
   ]
  },
  {
   "cell_type": "code",
   "execution_count": 14,
   "id": "ed743508-8f69-404a-a22a-8bfb22ef684a",
   "metadata": {},
   "outputs": [],
   "source": [
    "import hashlib\n",
    "\n",
    "def calculate_md5(file_path):\n",
    "    # Create an MD5 hash object\n",
    "    md5 = hashlib.md5()\n",
    "\n",
    "    # Open the file in binary mode\n",
    "    with open(file_path, \"rb\") as file:\n",
    "        # Read the file in chunks\n",
    "        chunk_size = 8192\n",
    "        for chunk in iter(lambda: file.read(chunk_size), b\"\"):\n",
    "            # Update the hash with the current chunk\n",
    "            md5.update(chunk)\n",
    "\n",
    "    # Return the hexadecimal representation of the digest\n",
    "    return md5.hexdigest()"
   ]
  },
  {
   "cell_type": "code",
   "execution_count": 15,
   "id": "14b694fc-7196-4891-98ed-201eaac6777c",
   "metadata": {},
   "outputs": [],
   "source": [
    "from torch_geometric.data import InMemoryDataset, download_url\n",
    "import os\n",
    "import os.path as osp\n",
    "import shutil\n",
    "import fsspec\n",
    "import io\n",
    "\n",
    "def torch_save(data, path) -> None:\n",
    "    buffer = io.BytesIO()\n",
    "    torch.save(data, buffer)\n",
    "    with fsspec.open(path, 'wb') as f:\n",
    "        f.write(buffer.getvalue())\n",
    "\n",
    "def torch_load(path):\n",
    "    with fsspec.open(path, 'rb') as f:\n",
    "        return torch.load(f)\n",
    "\n",
    "class Mirror(InMemoryDataset):\n",
    "    def __init__(self):\n",
    "        super().__init__('/tmp/Mirror')\n",
    "        path = osp.join(self.processed_dir, self.processed_file_names[0])\n",
    "        self.load(path)\n",
    "\n",
    "    def download(self):\n",
    "        src = \"/nobackup/vbalivada/GraphGPS/cs762/mirror.pkl\"\n",
    "        dst = osp.join(self.raw_dir, \"mirror.pkl\")\n",
    "        shutil.copy(src, dst)\n",
    "\n",
    "    @property\n",
    "    def raw_file_names(self):\n",
    "        return ['mirror.pkl']\n",
    "\n",
    "    @property\n",
    "    def processed_file_names(self):\n",
    "        return ['data.pt']\n",
    "\n",
    "    def process(self):\n",
    "        with open(osp.join(self.raw_dir, \"mirror.pkl\"), \"rb\") as f:\n",
    "            graphs = pickle.load(f)\n",
    "        self.save(self.__class__, graphs, osp.join(self.processed_dir, self.processed_file_names[0]))\n",
    "\n",
    "    @property\n",
    "    def processed_file_names(self):\n",
    "        return [\"data.pt\"]\n",
    "\n",
    "    @staticmethod\n",
    "    def save(cls, data_list, path):\n",
    "        r\"\"\"Saves a list of data objects to the file path :obj:`path`.\"\"\"\n",
    "        data, slices = cls.collate(data_list)\n",
    "        torch_save((data.to_dict(), slices), path)\n",
    "    \n",
    "    def load(self, path):\n",
    "        r\"\"\"Loads the dataset from the file path :obj:`path`.\"\"\"\n",
    "        data, self.slices = torch_load(path)\n",
    "        if isinstance(data, dict):  # Backward compatibility.\n",
    "            data = Data.from_dict(data)\n",
    "        self.data = data"
   ]
  },
  {
   "cell_type": "code",
   "execution_count": 16,
   "id": "efeca94a-d28c-46d4-9034-819dfd1b67be",
   "metadata": {},
   "outputs": [
    {
     "name": "stderr",
     "output_type": "stream",
     "text": [
      "Processing...\n",
      "Done!\n"
     ]
    }
   ],
   "source": [
    "dataset = Mirror()\n",
    "g = dataset[0]"
   ]
  },
  {
   "cell_type": "code",
   "execution_count": 7,
   "id": "550a2e2b-c0d8-4ab9-8425-8bc8575e5dba",
   "metadata": {},
   "outputs": [],
   "source": [
    "import torch\n",
    "import torch.nn.functional as F\n",
    "from torch_geometric.nn import GCNConv\n",
    "\n",
    "class GCN(torch.nn.Module):\n",
    "    def __init__(self):\n",
    "        super().__init__()\n",
    "        self.conv1 = GCNConv(dataset.num_node_features, 16)\n",
    "        self.conv2 = GCNConv(16, dataset.num_classes)\n",
    "\n",
    "    def forward(self, data):\n",
    "        x, edge_index = data.x, data.edge_index\n",
    "\n",
    "        x = self.conv1(x, edge_index)\n",
    "        x = F.relu(x)\n",
    "        x = F.dropout(x, training=self.training)\n",
    "        x = self.conv2(x, edge_index)\n",
    "\n",
    "        return F.log_softmax(x, dim=1)"
   ]
  },
  {
   "cell_type": "code",
   "execution_count": 8,
   "id": "9126ddfc-ffac-4bf1-9bfb-383299a5494a",
   "metadata": {},
   "outputs": [],
   "source": [
    "device = torch.device('cuda' if torch.cuda.is_available() else 'cpu')\n",
    "model = GCN().to(device)\n",
    "optimizer = torch.optim.Adam(model.parameters(), lr=0.01, weight_decay=5e-4)\n",
    "\n",
    "model.train()\n",
    "for epoch in range(200):\n",
    "    for data in dataset:\n",
    "        data = data.to(device)\n",
    "        optimizer.zero_grad()\n",
    "        out = model(data)\n",
    "        loss = F.nll_loss(out[data.train_mask], data.y[data.train_mask])\n",
    "        loss.backward()\n",
    "        optimizer.step()"
   ]
  },
  {
   "cell_type": "code",
   "execution_count": 9,
   "id": "a7d76fc1-d538-4984-a529-5ceb0b1168ee",
   "metadata": {},
   "outputs": [
    {
     "name": "stdout",
     "output_type": "stream",
     "text": [
      "Accuracy: 0.5000\n"
     ]
    }
   ],
   "source": [
    "model.eval()\n",
    "pred = model(data).argmax(dim=1)\n",
    "correct = (pred[data.test_mask] == data.y[data.test_mask]).sum()\n",
    "acc = int(correct) / int(data.test_mask.sum())\n",
    "print(f'Accuracy: {acc:.4f}')"
   ]
  },
  {
   "cell_type": "code",
   "execution_count": 10,
   "id": "d9568184-f546-49d0-9d72-3a01129e179c",
   "metadata": {},
   "outputs": [
    {
     "data": {
      "text/plain": [
       "(tensor([3, 6], device='cuda:0'), tensor([5, 6], device='cuda:0'))"
      ]
     },
     "execution_count": 10,
     "metadata": {},
     "output_type": "execute_result"
    }
   ],
   "source": [
    "pred[data.test_mask], data.y[data.test_mask]"
   ]
  },
  {
   "cell_type": "code",
   "execution_count": null,
   "id": "6f18fae7-3df1-4203-9fec-b494add66170",
   "metadata": {},
   "outputs": [],
   "source": []
  }
 ],
 "metadata": {
  "kernelspec": {
   "display_name": "Python 3 (ipykernel)",
   "language": "python",
   "name": "python3"
  },
  "language_info": {
   "codemirror_mode": {
    "name": "ipython",
    "version": 3
   },
   "file_extension": ".py",
   "mimetype": "text/x-python",
   "name": "python",
   "nbconvert_exporter": "python",
   "pygments_lexer": "ipython3",
   "version": "3.10.13"
  }
 },
 "nbformat": 4,
 "nbformat_minor": 5
}
